{
 "cells": [
  {
   "cell_type": "markdown",
   "metadata": {},
   "source": [
    "# Lab 2 : Aproximación de raises\n",
    "\n",
    " Defino función para mostrar resultados:"
   ]
  },
  {
   "cell_type": "code",
   "execution_count": 131,
   "metadata": {
    "pycharm": {
     "is_executing": false,
     "name": "#%%\n"
    }
   },
   "outputs": [],
   "source": [
    "def showMagicalResults(hx,hf,printLists = False):\n",
    "    if printLists:\n",
    "        print('x --> ',format(hx))\n",
    "        print('f(x) --> ',format(hf))\n",
    "    print('Iterations --> ',format(hx.__len__()))\n",
    "    print('Final values --> x -->',format(hx[-1]),' f(x) --> ',format(hf[-1]))    "
   ]
  },
  {
   "cell_type": "markdown",
   "metadata": {},
   "source": [
    "## 1) Bisección"
   ]
  },
  {
   "cell_type": "code",
   "execution_count": 132,
   "metadata": {
    "pycharm": {
     "is_executing": false,
     "name": "#%%\n"
    }
   },
   "outputs": [
    {
     "name": "stdout",
     "output_type": "stream",
     "text": [
      "Iterations -->  12\n",
      "Final values --> x --> -2.001953125  f(x) -->  0.007816314697265625\n"
     ]
    }
   ],
   "source": [
    "def rbisec(fun, I, err, mit):\n",
    "    a ,b= I[0], I[1]\n",
    "    hx,hf = [],[]\n",
    "    for i in range(mit):\n",
    "        c = (a+b)/2\n",
    "        hx.append(c)\n",
    "        hf.append(fun(c))\n",
    "        if abs(fun(c)) < err:\n",
    "            break\n",
    "            \n",
    "        if fun(a)*fun(c) < 0:\n",
    "            b = c\n",
    "        elif fun(a)*fun(c) > 0:\n",
    "            a = c\n",
    "        elif fun(a)*fun(b) > 0:\n",
    "            break\n",
    "            \n",
    "\n",
    "\n",
    "    return hx,hf          \n",
    "\n",
    "hx, hf = rbisec(lambda x: x**2 - 4, [-100, 100], 0.01, 25)\n",
    "\n",
    "showMagicalResults(hx,hf)"
   ]
  },
  {
   "cell_type": "markdown",
   "metadata": {},
   "source": [
    "# 2) a)"
   ]
  },
  {
   "cell_type": "code",
   "execution_count": 133,
   "metadata": {
    "pycharm": {
     "is_executing": false,
     "name": "#%%\n"
    }
   },
   "outputs": [
    {
     "name": "stdout",
     "output_type": "stream",
     "text": [
      "Iterations -->  100\n",
      "Final values --> x --> 1.4  f(x) -->  4.0585186008380205\n"
     ]
    }
   ],
   "source": [
    "import  math\n",
    "fun_lab2ej2a = lambda x: math.tan(x) / 2*x\n",
    "hx, hf = rbisec(fun_lab2ej2a, [0.8, 1.4], 1e-5, 100)\n",
    "showMagicalResults(hx,hf)"
   ]
  },
  {
   "cell_type": "markdown",
   "metadata": {},
   "source": [
    "# 2) b)"
   ]
  },
  {
   "cell_type": "code",
   "execution_count": 134,
   "metadata": {
    "pycharm": {
     "is_executing": false,
     "name": "#%%\n"
    }
   },
   "outputs": [
    {
     "name": "stdout",
     "output_type": "stream",
     "text": [
      "Iterations -->  18\n",
      "Final values --> x --> 1.7320518493652344  f(x) -->  3.6088895285502076e-06\n",
      "Raiz real --> 1.7320508075688772\n"
     ]
    }
   ],
   "source": [
    "fun_lab2ej2b = lambda x: pow(x, 2) - 3\n",
    "hx, hf = rbisec(fun_lab2ej2b, [0, 3], pow(10, -5), 20)\n",
    "showMagicalResults(hx,hf)\n",
    "print('Raiz real -->',format(math.sqrt(3)))"
   ]
  },
  {
   "cell_type": "markdown",
   "metadata": {},
   "source": [
    "# 2) c) Graficando\n"
   ]
  },
  {
   "cell_type": "code",
   "execution_count": 135,
   "metadata": {
    "pycharm": {
     "is_executing": false,
     "name": "#%%\n"
    }
   },
   "outputs": [],
   "source": [
    "\n",
    "# function to plot\n",
    "def plot_bisec(fun, I, err, mit, figsize=5):\n",
    "    \"\"\"\n",
    "    Given a function, a list of intervals,\n",
    "    an error and the max iterations allowed,\n",
    "    for each interval given plots the\n",
    "    real values of the function in the interval\n",
    "    plots the used values by the bisection method\n",
    "    to find the function's zero.\n",
    "    Creates N plots where N is the amount of intervals.\n",
    "    \"\"\"\n",
    "\n",
    "    # create the samples\n",
    "    I_x = [np.linspace(*i, 1000) for i in I]\n",
    "    \n",
    "    # get the real values\n",
    "    I_r = [np.array([\n",
    "        fun(x) \n",
    "        for x in I_s\n",
    "    ]) for I_s in I_x]\n",
    "    \n",
    "    # get our own results using bisec\n",
    "    I_b = [\n",
    "        rbisec(fun, i, err, mit)\n",
    "        for i in I\n",
    "    ]\n",
    "    \n",
    "    # create the fig and axes\n",
    "    fig, ax = plt.subplots(1, len(I), figsize=(figsize*len(I), figsize))\n",
    "    \n",
    "    # for each ax\n",
    "    for i, (ii, x, r, (hx, hf)) in enumerate(zip(I, I_x, I_r, I_b)):\n",
    "        ax[i].set_title('I'+str(i)+':' + str(ii) )\n",
    "        \n",
    "        # show the real results\n",
    "        ax[i].plot(x, r, label='f(x)')\n",
    "        \n",
    "        # show the results using bisec\n",
    "        bis_failed = not any(abs(f_x) < abs(err) for f_x in hf)\n",
    "        # check if the bisc failed (not close enough to zero)\n",
    "        if bis_failed:\n",
    "            centerx = sum(ii)/2\n",
    "            centery = ax[i].get_yticks()[3]\n",
    "            ax[i].text(centerx, centery, 'BISEC FAILED',\n",
    "                       horizontalalignment='center',\n",
    "                       verticalalignment='center',\n",
    "                       color='red')\n",
    "        else:\n",
    "            # bisec didn't failed, show results\n",
    "            ax[i].scatter(hx, hf, label='bisec(I)', color='green')\n",
    "            # center the zero\n",
    "            ax[i].spines['left'].set_position('center')\n",
    "            ax[i].spines['bottom'].set_position('zero')\n",
    "            # show zero in another color\n",
    "            ax[i].scatter(hx[-1], hf[-1], label='zero', color='red')\n",
    "        \n",
    "        ax[i].spines['right'].set_color('none')\n",
    "        ax[i].spines['top'].set_color('none')\n",
    "\n",
    "        ax[i].legend()\n",
    "    \n",
    "    plt.show()\n",
    "\n",
    "\n"
   ]
  },
  {
   "cell_type": "markdown",
   "metadata": {
    "pycharm": {
     "name": "#%% md\n"
    }
   },
   "source": [
    "2)c) Gráfico de tan 2) a)"
   ]
  },
  {
   "cell_type": "code",
   "execution_count": 136,
   "metadata": {
    "pycharm": {
     "is_executing": false,
     "name": "#%%\n"
    }
   },
   "outputs": [
    {
     "data": {
      "image/png": "[encoded data removed]",
      "text/plain": [
       "<Figure size 720x360 with 2 Axes>"
      ]
     },
     "metadata": {
      "needs_background": "light"
     },
     "output_type": "display_data"
    }
   ],
   "source": [
    "I_0 = (2, 4)\n",
    "I_1 = (5, 7)\n",
    "\n",
    "plot_bisec(fun_lab2ej2a, [I_0, I_1], pow(10, -5), 100)"
   ]
  },
  {
   "cell_type": "markdown",
   "metadata": {},
   "source": [
    "2)c) Gráfico x²-3 del 2)b)"
   ]
  },
  {
   "cell_type": "code",
   "execution_count": 137,
   "metadata": {
    "pycharm": {
     "is_executing": false,
     "name": "#%%\n"
    }
   },
   "outputs": [
    {
     "data": {
      "image/png": "[encoded data removed]",
      "text/plain": [
       "<Figure size 720x360 with 2 Axes>"
      ]
     },
     "metadata": {
      "needs_background": "light"
     },
     "output_type": "display_data"
    }
   ],
   "source": [
    "I_0 = (-3, 3)\n",
    "I_1 = (6, 1000)\n",
    "\n",
    "plot_bisec(fun_lab2ej2b, [I_0, I_1], pow(10, -5), 100)\n"
   ]
  },
  {
   "cell_type": "markdown",
   "metadata": {},
   "source": [
    "## 3) Método de Newton"
   ]
  },
  {
   "cell_type": "code",
   "execution_count": 138,
   "metadata": {
    "pycharm": {
     "is_executing": false,
     "name": "#%%\n"
    }
   },
   "outputs": [],
   "source": [
    "def rnewton(fun, x0, err, mit):\n",
    "    hx,hf = [], []\n",
    "    x_n = x0\n",
    "    x_n_p = 0\n",
    "\n",
    "    for k in range(mit):\n",
    "        fx , fdx = fun(x_n)\n",
    "        hx.append(x_n)\n",
    "        hf.append(fx)\n",
    "        if (abs(fx) < abs(err)):\n",
    "            break\n",
    "        abs_x_n = abs(x_n - x_n_p)\n",
    "        if x_n != 0 and (abs_x_n / abs(x_n) < abs(err)):\n",
    "            break\n",
    "        if (fdx == 0):\n",
    "            break\n",
    "        x_n_p = x_n\n",
    "        x_n = x_n - (fx/fdx)\n",
    "    return hx,hf"
   ]
  },
  {
   "cell_type": "markdown",
   "metadata": {
    "pycharm": {
     "name": "#%% md\n"
    }
   },
   "source": [
    "Probemos con f(x) = x³"
   ]
  },
  {
   "cell_type": "code",
   "execution_count": 139,
   "metadata": {
    "pycharm": {
     "is_executing": false,
     "name": "#%%\n"
    }
   },
   "outputs": [
    {
     "name": "stdout",
     "output_type": "stream",
     "text": [
      "Iterations -->  42\n",
      "Final values --> x --> 1.8087545367633247e-07  f(x) -->  5.9175086346392475e-21\n"
     ]
    }
   ],
   "source": [
    "hx, hf = rnewton(lambda x: (pow(x, 3), 3*pow(x,2)), 3, pow(10, -20), 100)\n",
    "showMagicalResults(hx, hf)"
   ]
  },
  {
   "cell_type": "markdown",
   "metadata": {},
   "source": [
    "## 4)"
   ]
  },
  {
   "cell_type": "code",
   "execution_count": 140,
   "metadata": {
    "pycharm": {
     "is_executing": false,
     "name": "#%%\n"
    }
   },
   "outputs": [
    {
     "name": "stdout",
     "output_type": "stream",
     "text": [
      "Iterations -->  1\n",
      "Final values --> x --> 3  f(x) -->  0\n"
     ]
    }
   ],
   "source": [
    "def unaFuncion(a):\n",
    "    assert a > 0\n",
    "    return rnewton(lambda x: (pow(x, 3)-a, 3*pow(x,2)),3,pow(10,-6),100)\n",
    "hx, hf = unaFuncion(27)\n",
    "showMagicalResults(hx, hf)"
   ]
  },
  {
   "cell_type": "markdown",
   "metadata": {
    "pycharm": {
     "name": "#%% md\n"
    }
   },
   "source": [
    "## 5) Método de punto fijo"
   ]
  },
  {
   "cell_type": "code",
   "execution_count": 141,
   "metadata": {
    "pycharm": {
     "is_executing": false,
     "name": "#%%\n"
    }
   },
   "outputs": [],
   "source": [
    "def ripf(fun, x0, err, mit):\n",
    "    hx = []\n",
    "    xn = x0\n",
    "    for i in range(mit):\n",
    "        p = fun(xn)\n",
    "        hx.append(p)\n",
    "        if abs(p - xn) < err:\n",
    "            break\n",
    "        x_k = p\n",
    "    return hx"
   ]
  },
  {
   "cell_type": "markdown",
   "metadata": {},
   "source": [
    "## 6) Aproximación con método de punto fijo"
   ]
  },
  {
   "cell_type": "code",
   "execution_count": 142,
   "metadata": {
    "pycharm": {
     "is_executing": false,
     "name": "#%%\n"
    }
   },
   "outputs": [
    {
     "name": "stdout",
     "output_type": "stream",
     "text": [
      "Fixed point method with x0 = 0.5 converges to --> 0.7071067811865476 Interations done --> 100\n",
      "Fixed point method with x0 = 1 converges to --> 1 Interations done --> 1\n",
      "Fixed point method with x0 = 1.5 converges to --> 1.4142135623730951 Interations done --> 100\n",
      "Fixed point method with x0 = 2 converges to --> 2 Interations done --> 1\n",
      "Fixed point method with x0 = 2.5 converges to --> 2.8284271247461903 Interations done --> 100\n"
     ]
    }
   ],
   "source": [
    "vals = [0.5, 1, 1.5, 2, 2.5]\n",
    "for val in vals:\n",
    "    try:\n",
    "        pf = ripf(lambda x: pow(2, (x-1)),val,pow(10, -5),100)\n",
    "    except OverflowError:\n",
    "        print('Fixed point method failed with x0 = ',format(val))\n",
    "        continue\n",
    "    print('Fixed point method with x0 =',format(val),'converges to -->',format(pf[-1]),'Interations done -->',format(len(pf)))"
   ]
  },
  {
   "cell_type": "markdown",
   "metadata": {},
   "source": [
    "## 7)\n"
   ]
  },
  {
   "cell_type": "code",
   "execution_count": 143,
   "metadata": {
    "pycharm": {
     "is_executing": false,
     "name": "#%%\n"
    }
   },
   "outputs": [
    {
     "name": "stdout",
     "output_type": "stream",
     "text": [
      "Biseccion\n",
      "Iterations -->  39\n",
      "Final values --> x --> 0.9999999999990905  f(x) -->  -9.094947017729282e-13\n",
      "Newton\n",
      "Iterations -->  1\n",
      "Final values --> x --> 1  f(x) -->  0.0\n",
      "Fixed point method with x0 = 1 converges to --> 1.0 Interations done --> 1\n",
      "0.9999999999990905 1 1.0\n"
     ]
    }
   ],
   "source": [
    "    def forBisec(x):\n",
    "        def fun(y):\n",
    "            return (y - np.exp(-pow((1 - x*y), 2)))\n",
    "        return rbisec(fun,(0,1.5),pow(10,-12),123)\n",
    "    \n",
    "    print('Biseccion')\n",
    "    hxb,hfb = forBisec(1)\n",
    "    showMagicalResults(hxb,hfb)\n",
    "    \n",
    "    def forNewton(x):\n",
    "        def fun(y):\n",
    "            return (y - np.exp(-pow((1 - x*y), 2))),(1 - 2 * x * np.exp(- (x * y - 1) ** 2) * (1 - x * y))\n",
    "        return rnewton(fun,1,pow(10,-12),123)\n",
    "    \n",
    "    print('Newton')\n",
    "    hxn,hfn = forNewton(1)\n",
    "    showMagicalResults(hxn,hfn)\n",
    "    \n",
    "    def forFixedPoint(x):\n",
    "        def fun(y):\n",
    "            return (y - np.exp(-pow((1 - x*y), 2)))\n",
    "        def iterFun(y):\n",
    "            return y - fun(y)\n",
    "        return ripf(iterFun,x,pow(10,-12),123)\n",
    "    \n",
    "    pf = forFixedPoint(1)\n",
    "    print('Fixed point method with x0 = 1 converges to -->',format(pf[-1]),'Interations done -->',format(len(pf)))\n",
    "\n",
    "    print(hxb[-1],hxn[-1],pf[-1])"
   ]
  },
  {
   "cell_type": "markdown",
   "metadata": {},
   "source": [
    "Graficos:"
   ]
  },
  {
   "cell_type": "code",
   "execution_count": 144,
   "metadata": {
    "pycharm": {
     "is_executing": false,
     "name": "#%%\n"
    }
   },
   "outputs": [
    {
     "data": {
      "image/png": "[encoded data removed]",
      "text/plain": [
       "<Figure size 1080x360 with 3 Axes>"
      ]
     },
     "metadata": {
      "needs_background": "light"
     },
     "output_type": "display_data"
    }
   ],
   "source": [
    "import numpy as np\n",
    "import matplotlib.pyplot as plt\n",
    "\n",
    "# x\n",
    "I = (0, 1.5)\n",
    "X = np.linspace(*I, 1000)\n",
    "\n",
    "# imagenes\n",
    "bisec = [forBisec(x)[0][-1] for x in X]\n",
    "newton = [forNewton(x)[0][-1] for x in X]\n",
    "ipf = [forFixedPoint(x)[-1] for x in X]\n",
    "\n",
    "# mostramos los gráficos\n",
    "fig, ax = plt.subplots(1, 3, figsize=(15, 5))\n",
    "\n",
    "ax[0].plot(X, bisec, color='red')\n",
    "ax[0].set_title('Bisection method')\n",
    "\n",
    "ax[1].plot(X, newton, color='blue')\n",
    "ax[1].set_title('Newton method')\n",
    "\n",
    "ax[2].plot(X, ipf, color='green')\n",
    "ax[2].set_title('Fixed point iteration method')\n",
    "\n",
    "plt.show()\n"
   ]
  }
 ],
 "metadata": {
  "kernelspec": {
   "display_name": "Python 3",
   "language": "python",
   "name": "python3"
  },
  "language_info": {
   "codemirror_mode": {
    "name": "ipython",
    "version": 3
   },
   "file_extension": ".py",
   "mimetype": "text/x-python",
   "name": "python",
   "nbconvert_exporter": "python",
   "pygments_lexer": "ipython3",
   "version": "3.5.2"
  },
  "pycharm": {
   "stem_cell": {
    "cell_type": "raw",
    "metadata": {
     "collapsed": false
    },
    "source": []
   }
  }
 },
 "nbformat": 4,
 "nbformat_minor": 1
}