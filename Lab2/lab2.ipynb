{
 "cells": [
  {
   "cell_type": "markdown",
   "source": [
    "# Lab 2 : Aproximación de raises\n",
    "\n",
    " Defino función para mostrar resultados:"
   ],
   "metadata": {
    "collapsed": false
   }
  },
  {
   "cell_type": "code",
   "execution_count": 78,
   "outputs": [],
   "source": [
    "def showMagicalResults(hx,hf,printLists = False):\n",
    "    if printLists:\n",
    "        print('x --> ',format(hx))\n",
    "        print('f(x) --> ',format(hf))\n",
    "    print('Iterations --> ',format(hx.__len__()))\n",
    "    print('Final values --> x -->',format(hx[-1]),' f(x) --> ',format(hf[-1]))    "
   ],
   "metadata": {
    "collapsed": false,
    "pycharm": {
     "name": "#%%\n",
     "is_executing": false
    }
   }
  },
  {
   "cell_type": "markdown",
   "source": [
    "## 1) Bisección"
   ],
   "metadata": {
    "collapsed": false
   }
  },
  {
   "cell_type": "code",
   "execution_count": 79,
   "outputs": [
    {
     "name": "stdout",
     "text": [
      "Iterations -->  12\nFinal values --> x --> -2.001953125  f(x) -->  0.007816314697265625\n"
     ],
     "output_type": "stream"
    }
   ],
   "source": [
    "def rbisec(fun, I, err, mit):\n",
    "    a ,b= I[0], I[1]\n",
    "    hx,hf = [],[]\n",
    "    for i in range(mit):\n",
    "        c = (a+b)/2\n",
    "        hx.append(c)\n",
    "        hf.append(fun(c))\n",
    "        if abs(fun(c)) < err:\n",
    "            break\n",
    "            \n",
    "        if fun(a)*fun(c) < 0:\n",
    "            b = c\n",
    "        elif fun(a)*fun(c) > 0:\n",
    "            a = c\n",
    "        elif fun(a)*fun(b) > 0:\n",
    "            break\n",
    "            \n",
    "\n",
    "\n",
    "    return hx,hf          \n",
    "\n",
    "hx, hf = rbisec(lambda x: x**2 - 4, [-100, 100], 0.01, 25)\n",
    "\n",
    "showMagicalResults(hx,hf)"
   ],
   "metadata": {
    "collapsed": false,
    "pycharm": {
     "name": "#%%\n",
     "is_executing": false
    }
   }
  },
  {
   "cell_type": "markdown",
   "source": [
    "# 2) a)"
   ],
   "metadata": {
    "collapsed": false
   }
  },
  {
   "cell_type": "code",
   "execution_count": 80,
   "outputs": [
    {
     "name": "stdout",
     "text": [
      "Iterations -->  100\nFinal values --> x --> 1.4  f(x) -->  4.0585186008380205\n"
     ],
     "output_type": "stream"
    }
   ],
   "source": [
    "import  math\n",
    "fun_lab2ej2a = lambda x: math.tan(x) / 2*x\n",
    "hx, hf = rbisec(fun_lab2ej2a, [0.8, 1.4], 1e-5, 100)\n",
    "showMagicalResults(hx,hf)"
   ],
   "metadata": {
    "collapsed": false,
    "pycharm": {
     "name": "#%%\n",
     "is_executing": false
    }
   }
  },
  {
   "cell_type": "markdown",
   "source": [
    "# 2) b)"
   ],
   "metadata": {
    "collapsed": false
   }
  },
  {
   "cell_type": "code",
   "execution_count": 81,
   "outputs": [
    {
     "name": "stdout",
     "text": [
      "Iterations -->  18\nFinal values --> x --> 1.7320518493652344  f(x) -->  3.6088895285502076e-06\nRaiz real --> 1.7320508075688772\n"
     ],
     "output_type": "stream"
    }
   ],
   "source": [
    "fun_lab2ej2b = lambda x: pow(x, 2) - 3\n",
    "hx, hf = rbisec(fun_lab2ej2b, [0, 3], pow(10, -5), 20)\n",
    "showMagicalResults(hx,hf)\n",
    "print('Raiz real -->',format(math.sqrt(3)))"
   ],
   "metadata": {
    "collapsed": false,
    "pycharm": {
     "name": "#%%\n",
     "is_executing": false
    }
   }
  },
  {
   "cell_type": "markdown",
   "source": [
    "# 2) c) Graficando\n"
   ],
   "metadata": {
    "collapsed": false
   }
  },
  {
   "cell_type": "code",
   "execution_count": 82,
   "outputs": [],
   "source": [
    "\n",
    "# function to plot\n",
    "def plot_bisec(fun, I, err, mit, figsize=5):\n",
    "    \"\"\"\n",
    "    Given a function, a list of intervals,\n",
    "    an error and the max iterations allowed,\n",
    "    for each interval given plots the\n",
    "    real values of the function in the interval\n",
    "    plots the used values by the bisection method\n",
    "    to find the function's zero.\n",
    "    Creates N plots where N is the amount of intervals.\n",
    "    \"\"\"\n",
    "\n",
    "    # create the samples\n",
    "    I_x = [np.linspace(*i, 1000) for i in I]\n",
    "    \n",
    "    # get the real values\n",
    "    I_r = [np.array([\n",
    "        fun(x) \n",
    "        for x in I_s\n",
    "    ]) for I_s in I_x]\n",
    "    \n",
    "    # get our own results using bisec\n",
    "    I_b = [\n",
    "        rbisec(fun, i, err, mit)\n",
    "        for i in I\n",
    "    ]\n",
    "    \n",
    "    # create the fig and axes\n",
    "    fig, ax = plt.subplots(1, len(I), figsize=(figsize*len(I), figsize))\n",
    "    \n",
    "    # for each ax\n",
    "    for i, (ii, x, r, (hx, hf)) in enumerate(zip(I, I_x, I_r, I_b)):\n",
    "        ax[i].set_title('I'+str(i)+':' + str(ii) )\n",
    "        \n",
    "        # show the real results\n",
    "        ax[i].plot(x, r, label='f(x)')\n",
    "        \n",
    "        # show the results using bisec\n",
    "        bis_failed = not any(abs(f_x) < abs(err) for f_x in hf)\n",
    "        # check if the bisc failed (not close enough to zero)\n",
    "        if bis_failed:\n",
    "            centerx = sum(ii)/2\n",
    "            centery = ax[i].get_yticks()[3]\n",
    "            ax[i].text(centerx, centery, 'BISEC FAILED',\n",
    "                       horizontalalignment='center',\n",
    "                       verticalalignment='center',\n",
    "                       color='red')\n",
    "        else:\n",
    "            # bisec didn't failed, show results\n",
    "            ax[i].scatter(hx, hf, label='bisec(I)', color='green')\n",
    "            # center the zero\n",
    "            ax[i].spines['left'].set_position('center')\n",
    "            ax[i].spines['bottom'].set_position('zero')\n",
    "            # show zero in another color\n",
    "            ax[i].scatter(hx[-1], hf[-1], label='zero', color='red')\n",
    "        \n",
    "        ax[i].spines['right'].set_color('none')\n",
    "        ax[i].spines['top'].set_color('none')\n",
    "\n",
    "        ax[i].legend()\n",
    "    \n",
    "    plt.show()\n",
    "\n",
    "\n"
   ],
   "metadata": {
    "collapsed": false,
    "pycharm": {
     "name": "#%%\n",
     "is_executing": false
    }
   }
  },
  {
   "cell_type": "markdown",
   "source": [
    "2)c) Gráfico de tan 2) a)"
   ],
   "metadata": {
    "collapsed": false,
    "pycharm": {
     "name": "#%% md\n"
    }
   }
  },
  {
   "cell_type": "code",
   "execution_count": 83,
   "outputs": [
    {
     "data": {
      "image/png": "[encoded data removed]",
      "text/plain": "<Figure size 720x360 with 2 Axes>"
     },
     "metadata": {
      "needs_background": "light"
     },
     "output_type": "display_data"
    }
   ],
   "source": [
    "I_0 = (2, 4)\n",
    "I_1 = (5, 7)\n",
    "\n",
    "plot_bisec(fun_lab2ej2a, [I_0, I_1], pow(10, -5), 100)"
   ],
   "metadata": {
    "collapsed": false,
    "pycharm": {
     "name": "#%%\n",
     "is_executing": false
    }
   }
  },
  {
   "cell_type": "markdown",
   "source": [
    "2)c) Gráfico x²-3 del 2)b)"
   ],
   "metadata": {
    "collapsed": false
   }
  },
  {
   "cell_type": "code",
   "execution_count": 84,
   "outputs": [
    {
     "data": {
      "image/png": "[encoded data removed]",
      "text/plain": "<Figure size 720x360 with 2 Axes>"
     },
     "metadata": {
      "needs_background": "light"
     },
     "output_type": "display_data"
    }
   ],
   "source": [
    "I_0 = (-3, 3)\n",
    "I_1 = (6, 1000)\n",
    "\n",
    "plot_bisec(fun_lab2ej2b, [I_0, I_1], pow(10, -5), 100)\n"
   ],
   "metadata": {
    "collapsed": false,
    "pycharm": {
     "name": "#%%\n",
     "is_executing": false
    }
   }
  },
  {
   "cell_type": "markdown",
   "source": [
    "## 3) Método de Newton"
   ],
   "metadata": {
    "collapsed": false
   }
  },
  {
   "cell_type": "code",
   "execution_count": 85,
   "outputs": [],
   "source": [
    "def rnewton(fun, x0, err, mit):\n",
    "    hx,hf = [], []\n",
    "    x_n = x0\n",
    "    x_n_p = 0\n",
    "\n",
    "    for k in range(mit):\n",
    "        fx , fdx = fun(x_n)\n",
    "        hx.append(x_n)\n",
    "        hf.append(fx)\n",
    "        if (abs(fx) < abs(err)):\n",
    "            break\n",
    "        abs_x_n = abs(x_n - x_n_p)\n",
    "        if x_n != 0 and (abs_x_n / abs(x_n) < abs(err)):\n",
    "            break\n",
    "        if (fdx == 0):\n",
    "            break\n",
    "        x_n_p = x_n\n",
    "        x_n = x_n - (fx/fdx)\n",
    "    return hx,hf"
   ],
   "metadata": {
    "collapsed": false,
    "pycharm": {
     "name": "#%%\n",
     "is_executing": false
    }
   }
  },
  {
   "cell_type": "markdown",
   "source": [
    "Probemos con f(x) = x³"
   ],
   "metadata": {
    "collapsed": false,
    "pycharm": {
     "name": "#%% md\n"
    }
   }
  },
  {
   "cell_type": "code",
   "execution_count": 86,
   "outputs": [
    {
     "name": "stdout",
     "text": [
      "Iterations -->  42\nFinal values --> x --> 1.8087545367633247e-07  f(x) -->  5.9175086346392475e-21\n"
     ],
     "output_type": "stream"
    }
   ],
   "source": [
    "hx, hf = rnewton(lambda x: (pow(x, 3), 3*pow(x,2)), 3, pow(10, -20), 100)\n",
    "showMagicalResults(hx, hf)"
   ],
   "metadata": {
    "collapsed": false,
    "pycharm": {
     "name": "#%%\n",
     "is_executing": false
    }
   }
  },
  {
   "cell_type": "markdown",
   "source": [
    "## 4)"
   ],
   "metadata": {
    "collapsed": false
   }
  },
  {
   "cell_type": "code",
   "execution_count": 87,
   "outputs": [
    {
     "name": "stdout",
     "text": [
      "Iterations -->  1\nFinal values --> x --> 3  f(x) -->  0\n"
     ],
     "output_type": "stream"
    }
   ],
   "source": [
    "def unaFuncion(a):\n",
    "    assert a > 0\n",
    "    return rnewton(lambda x: (pow(x, 3)-a, 3*pow(x,2)),3,pow(10,-6),100)\n",
    "hx, hf = unaFuncion(27)\n",
    "showMagicalResults(hx, hf)"
   ],
   "metadata": {
    "collapsed": false,
    "pycharm": {
     "name": "#%%\n",
     "is_executing": false
    }
   }
  },
  {
   "cell_type": "markdown",
   "source": [
    "## 5) Método de punto fijo"
   ],
   "metadata": {
    "collapsed": false,
    "pycharm": {
     "name": "#%% md\n"
    }
   }
  },
  {
   "cell_type": "code",
   "execution_count": 88,
   "outputs": [],
   "source": [
    "def ripf(fun, x0, err, mit):\n",
    "    hx = []\n",
    "    xn = x0\n",
    "    for i in range(mit):\n",
    "        p = fun(xn)\n",
    "        hx.append(p)\n",
    "        if abs(p - xn) < err:\n",
    "            break\n",
    "        x_k = p\n",
    "    return hx"
   ],
   "metadata": {
    "collapsed": false,
    "pycharm": {
     "name": "#%%\n",
     "is_executing": false
    }
   }
  },
  {
   "cell_type": "markdown",
   "source": [
    "## 6) Aproximación con método de punto fijo"
   ],
   "metadata": {
    "collapsed": false
   }
  },
  {
   "cell_type": "code",
   "execution_count": 89,
   "outputs": [
    {
     "name": "stdout",
     "text": [
      "Fixed point method with x0 = 0.5 converges to --> 0.7071067811865476 Interations done --> 100\nFixed point method with x0 = 1 converges to --> 1 Interations done --> 1\nFixed point method with x0 = 1.5 converges to --> 1.4142135623730951 Interations done --> 100\nFixed point method with x0 = 2 converges to --> 2 Interations done --> 1\nFixed point method with x0 = 2.5 converges to --> 2.8284271247461903 Interations done --> 100\n"
     ],
     "output_type": "stream"
    }
   ],
   "source": [
    "vals = [0.5, 1, 1.5, 2, 2.5]\n",
    "for val in vals:\n",
    "    try:\n",
    "        pf = ripf(lambda x: pow(2, (x-1)),val,pow(10, -5),100)\n",
    "    except OverflowError:\n",
    "        print('Fixed point method failed with x0 = ',format(val))\n",
    "        continue\n",
    "    print('Fixed point method with x0 =',format(val),'converges to -->',format(pf[-1]),'Interations done -->',format(len(pf)))"
   ],
   "metadata": {
    "collapsed": false,
    "pycharm": {
     "name": "#%%\n",
     "is_executing": false
    }
   }
  },
  {
   "cell_type": "markdown",
   "source": [
    "## 7)\n"
   ],
   "metadata": {
    "collapsed": false
   }
  },
  {
   "cell_type": "code",
   "execution_count": 92,
   "outputs": [
    {
     "name": "stdout",
     "text": [
      "Biseccion\nIterations -->  39\nFinal values --> x --> 0.9999999999990905  f(x) -->  -9.094947017729282e-13\nNewton\nIterations -->  1\nFinal values --> x --> 1  f(x) -->  0.0\nFixed point method with x0 = 1 converges to --> 1.0 Interations done --> 1\n0.9999999999990905 1 1.0\n"
     ],
     "output_type": "stream"
    }
   ],
   "source": [
    "    def forBisec(x):\n",
    "        def fun(y):\n",
    "            return (y - np.exp(-pow((1 - x*y), 2)))\n",
    "        return rbisec(fun,(0,1.5),pow(10,-12),123)\n",
    "    \n",
    "    print('Biseccion')\n",
    "    hxb,hfb = forBisec(1)\n",
    "    showMagicalResults(hxb,hfb)\n",
    "    \n",
    "    def forNewton(x):\n",
    "        def fun(y):\n",
    "            return (y - np.exp(-pow((1 - x*y), 2))),(1 - 2 * x * np.exp(- (x * y - 1) ** 2) * (1 - x * y))\n",
    "        return rnewton(fun,1,pow(10,-12),123)\n",
    "    \n",
    "    print('Newton')\n",
    "    hxn,hfn = forNewton(1)\n",
    "    showMagicalResults(hxn,hfn)\n",
    "    \n",
    "    def forFixedPoint(x):\n",
    "        def fun(y):\n",
    "            return (y - np.exp(-pow((1 - x*y), 2)))\n",
    "        def iterFun(y):\n",
    "            return y - fun(y)\n",
    "        return ripf(iterFun,x,pow(10,-12),123)\n",
    "    \n",
    "    pf = forFixedPoint(1)\n",
    "    print('Fixed point method with x0 = 1 converges to -->',format(pf[-1]),'Interations done -->',format(len(pf)))\n",
    "\n",
    "    print(hxb[-1],hxn[-1],pf[-1])"
   ],
   "metadata": {
    "collapsed": false,
    "pycharm": {
     "name": "#%%\n",
     "is_executing": false
    }
   }
  },
  {
   "cell_type": "markdown",
   "source": [
    "Graficos:"
   ],
   "metadata": {
    "collapsed": false
   }
  },
  {
   "cell_type": "code",
   "execution_count": 97,
   "outputs": [
    {
     "traceback": [
      "\u001b[0;31m---------------------------------------------------------------------------\u001b[0m",
      "\u001b[0;31mTypeError\u001b[0m                                 Traceback (most recent call last)",
      "\u001b[0;31mTypeError\u001b[0m: float() argument must be a string or a number, not 'list'",
      "\nThe above exception was the direct cause of the following exception:\n",
      "\u001b[0;31mValueError\u001b[0m                                Traceback (most recent call last)",
      "\u001b[0;32m<ipython-input-97-8e7eb5859ebb>\u001b[0m in \u001b[0;36m<module>\u001b[0;34m\u001b[0m\n\u001b[1;32m     14\u001b[0m \u001b[0mfig\u001b[0m\u001b[0;34m,\u001b[0m \u001b[0max\u001b[0m \u001b[0;34m=\u001b[0m \u001b[0mplt\u001b[0m\u001b[0;34m.\u001b[0m\u001b[0msubplots\u001b[0m\u001b[0;34m(\u001b[0m\u001b[0;36m1\u001b[0m\u001b[0;34m,\u001b[0m \u001b[0;36m3\u001b[0m\u001b[0;34m,\u001b[0m \u001b[0mfigsize\u001b[0m\u001b[0;34m=\u001b[0m\u001b[0;34m(\u001b[0m\u001b[0;36m15\u001b[0m\u001b[0;34m,\u001b[0m \u001b[0;36m5\u001b[0m\u001b[0;34m)\u001b[0m\u001b[0;34m)\u001b[0m\u001b[0;34m\u001b[0m\u001b[0m\n\u001b[1;32m     15\u001b[0m \u001b[0;34m\u001b[0m\u001b[0m\n\u001b[0;32m---> 16\u001b[0;31m \u001b[0max\u001b[0m\u001b[0;34m[\u001b[0m\u001b[0;36m0\u001b[0m\u001b[0;34m]\u001b[0m\u001b[0;34m.\u001b[0m\u001b[0mplot\u001b[0m\u001b[0;34m(\u001b[0m\u001b[0mX\u001b[0m\u001b[0;34m,\u001b[0m \u001b[0mbisec\u001b[0m\u001b[0;34m,\u001b[0m \u001b[0mcolor\u001b[0m\u001b[0;34m=\u001b[0m\u001b[0;34m'red'\u001b[0m\u001b[0;34m)\u001b[0m\u001b[0;34m\u001b[0m\u001b[0m\n\u001b[0m\u001b[1;32m     17\u001b[0m \u001b[0max\u001b[0m\u001b[0;34m[\u001b[0m\u001b[0;36m0\u001b[0m\u001b[0;34m]\u001b[0m\u001b[0;34m.\u001b[0m\u001b[0mset_title\u001b[0m\u001b[0;34m(\u001b[0m\u001b[0;34m'Bisection method'\u001b[0m\u001b[0;34m)\u001b[0m\u001b[0;34m\u001b[0m\u001b[0m\n\u001b[1;32m     18\u001b[0m \u001b[0;34m\u001b[0m\u001b[0m\n",
      "\u001b[0;32m~/PycharmProjects/Numerico2020/venv/lib/python3.5/site-packages/matplotlib/__init__.py\u001b[0m in \u001b[0;36minner\u001b[0;34m(ax, data, *args, **kwargs)\u001b[0m\n\u001b[1;32m   1808\u001b[0m                         \u001b[0;34m\"the Matplotlib list!)\"\u001b[0m \u001b[0;34m%\u001b[0m \u001b[0;34m(\u001b[0m\u001b[0mlabel_namer\u001b[0m\u001b[0;34m,\u001b[0m \u001b[0mfunc\u001b[0m\u001b[0;34m.\u001b[0m\u001b[0m__name__\u001b[0m\u001b[0;34m)\u001b[0m\u001b[0;34m,\u001b[0m\u001b[0;34m\u001b[0m\u001b[0m\n\u001b[1;32m   1809\u001b[0m                         RuntimeWarning, stacklevel=2)\n\u001b[0;32m-> 1810\u001b[0;31m             \u001b[0;32mreturn\u001b[0m \u001b[0mfunc\u001b[0m\u001b[0;34m(\u001b[0m\u001b[0max\u001b[0m\u001b[0;34m,\u001b[0m \u001b[0;34m*\u001b[0m\u001b[0margs\u001b[0m\u001b[0;34m,\u001b[0m \u001b[0;34m**\u001b[0m\u001b[0mkwargs\u001b[0m\u001b[0;34m)\u001b[0m\u001b[0;34m\u001b[0m\u001b[0m\n\u001b[0m\u001b[1;32m   1811\u001b[0m \u001b[0;34m\u001b[0m\u001b[0m\n\u001b[1;32m   1812\u001b[0m         inner.__doc__ = _add_data_doc(inner.__doc__,\n",
      "\u001b[0;32m~/PycharmProjects/Numerico2020/venv/lib/python3.5/site-packages/matplotlib/axes/_axes.py\u001b[0m in \u001b[0;36mplot\u001b[0;34m(self, scalex, scaley, *args, **kwargs)\u001b[0m\n\u001b[1;32m   1610\u001b[0m \u001b[0;34m\u001b[0m\u001b[0m\n\u001b[1;32m   1611\u001b[0m         \u001b[0;32mfor\u001b[0m \u001b[0mline\u001b[0m \u001b[0;32min\u001b[0m \u001b[0mself\u001b[0m\u001b[0;34m.\u001b[0m\u001b[0m_get_lines\u001b[0m\u001b[0;34m(\u001b[0m\u001b[0;34m*\u001b[0m\u001b[0margs\u001b[0m\u001b[0;34m,\u001b[0m \u001b[0;34m**\u001b[0m\u001b[0mkwargs\u001b[0m\u001b[0;34m)\u001b[0m\u001b[0;34m:\u001b[0m\u001b[0;34m\u001b[0m\u001b[0m\n\u001b[0;32m-> 1612\u001b[0;31m             \u001b[0mself\u001b[0m\u001b[0;34m.\u001b[0m\u001b[0madd_line\u001b[0m\u001b[0;34m(\u001b[0m\u001b[0mline\u001b[0m\u001b[0;34m)\u001b[0m\u001b[0;34m\u001b[0m\u001b[0m\n\u001b[0m\u001b[1;32m   1613\u001b[0m             \u001b[0mlines\u001b[0m\u001b[0;34m.\u001b[0m\u001b[0mappend\u001b[0m\u001b[0;34m(\u001b[0m\u001b[0mline\u001b[0m\u001b[0;34m)\u001b[0m\u001b[0;34m\u001b[0m\u001b[0m\n\u001b[1;32m   1614\u001b[0m \u001b[0;34m\u001b[0m\u001b[0m\n",
      "\u001b[0;32m~/PycharmProjects/Numerico2020/venv/lib/python3.5/site-packages/matplotlib/axes/_base.py\u001b[0m in \u001b[0;36madd_line\u001b[0;34m(self, line)\u001b[0m\n\u001b[1;32m   1893\u001b[0m             \u001b[0mline\u001b[0m\u001b[0;34m.\u001b[0m\u001b[0mset_clip_path\u001b[0m\u001b[0;34m(\u001b[0m\u001b[0mself\u001b[0m\u001b[0;34m.\u001b[0m\u001b[0mpatch\u001b[0m\u001b[0;34m)\u001b[0m\u001b[0;34m\u001b[0m\u001b[0m\n\u001b[1;32m   1894\u001b[0m \u001b[0;34m\u001b[0m\u001b[0m\n\u001b[0;32m-> 1895\u001b[0;31m         \u001b[0mself\u001b[0m\u001b[0;34m.\u001b[0m\u001b[0m_update_line_limits\u001b[0m\u001b[0;34m(\u001b[0m\u001b[0mline\u001b[0m\u001b[0;34m)\u001b[0m\u001b[0;34m\u001b[0m\u001b[0m\n\u001b[0m\u001b[1;32m   1896\u001b[0m         \u001b[0;32mif\u001b[0m \u001b[0;32mnot\u001b[0m \u001b[0mline\u001b[0m\u001b[0;34m.\u001b[0m\u001b[0mget_label\u001b[0m\u001b[0;34m(\u001b[0m\u001b[0;34m)\u001b[0m\u001b[0;34m:\u001b[0m\u001b[0;34m\u001b[0m\u001b[0m\n\u001b[1;32m   1897\u001b[0m             \u001b[0mline\u001b[0m\u001b[0;34m.\u001b[0m\u001b[0mset_label\u001b[0m\u001b[0;34m(\u001b[0m\u001b[0;34m'_line%d'\u001b[0m \u001b[0;34m%\u001b[0m \u001b[0mlen\u001b[0m\u001b[0;34m(\u001b[0m\u001b[0mself\u001b[0m\u001b[0;34m.\u001b[0m\u001b[0mlines\u001b[0m\u001b[0;34m)\u001b[0m\u001b[0;34m)\u001b[0m\u001b[0;34m\u001b[0m\u001b[0m\n",
      "\u001b[0;32m~/PycharmProjects/Numerico2020/venv/lib/python3.5/site-packages/matplotlib/axes/_base.py\u001b[0m in \u001b[0;36m_update_line_limits\u001b[0;34m(self, line)\u001b[0m\n\u001b[1;32m   1915\u001b[0m         \u001b[0mFigures\u001b[0m \u001b[0mout\u001b[0m \u001b[0mthe\u001b[0m \u001b[0mdata\u001b[0m \u001b[0mlimit\u001b[0m \u001b[0mof\u001b[0m \u001b[0mthe\u001b[0m \u001b[0mgiven\u001b[0m \u001b[0mline\u001b[0m\u001b[0;34m,\u001b[0m \u001b[0mupdating\u001b[0m \u001b[0mself\u001b[0m\u001b[0;34m.\u001b[0m\u001b[0mdataLim\u001b[0m\u001b[0;34m.\u001b[0m\u001b[0;34m\u001b[0m\u001b[0m\n\u001b[1;32m   1916\u001b[0m         \"\"\"\n\u001b[0;32m-> 1917\u001b[0;31m         \u001b[0mpath\u001b[0m \u001b[0;34m=\u001b[0m \u001b[0mline\u001b[0m\u001b[0;34m.\u001b[0m\u001b[0mget_path\u001b[0m\u001b[0;34m(\u001b[0m\u001b[0;34m)\u001b[0m\u001b[0;34m\u001b[0m\u001b[0m\n\u001b[0m\u001b[1;32m   1918\u001b[0m         \u001b[0;32mif\u001b[0m \u001b[0mpath\u001b[0m\u001b[0;34m.\u001b[0m\u001b[0mvertices\u001b[0m\u001b[0;34m.\u001b[0m\u001b[0msize\u001b[0m \u001b[0;34m==\u001b[0m \u001b[0;36m0\u001b[0m\u001b[0;34m:\u001b[0m\u001b[0;34m\u001b[0m\u001b[0m\n\u001b[1;32m   1919\u001b[0m             \u001b[0;32mreturn\u001b[0m\u001b[0;34m\u001b[0m\u001b[0m\n",
      "\u001b[0;32m~/PycharmProjects/Numerico2020/venv/lib/python3.5/site-packages/matplotlib/lines.py\u001b[0m in \u001b[0;36mget_path\u001b[0;34m(self)\u001b[0m\n\u001b[1;32m    943\u001b[0m         \"\"\"\n\u001b[1;32m    944\u001b[0m         \u001b[0;32mif\u001b[0m \u001b[0mself\u001b[0m\u001b[0;34m.\u001b[0m\u001b[0m_invalidy\u001b[0m \u001b[0;32mor\u001b[0m \u001b[0mself\u001b[0m\u001b[0;34m.\u001b[0m\u001b[0m_invalidx\u001b[0m\u001b[0;34m:\u001b[0m\u001b[0;34m\u001b[0m\u001b[0m\n\u001b[0;32m--> 945\u001b[0;31m             \u001b[0mself\u001b[0m\u001b[0;34m.\u001b[0m\u001b[0mrecache\u001b[0m\u001b[0;34m(\u001b[0m\u001b[0;34m)\u001b[0m\u001b[0;34m\u001b[0m\u001b[0m\n\u001b[0m\u001b[1;32m    946\u001b[0m         \u001b[0;32mreturn\u001b[0m \u001b[0mself\u001b[0m\u001b[0;34m.\u001b[0m\u001b[0m_path\u001b[0m\u001b[0;34m\u001b[0m\u001b[0m\n\u001b[1;32m    947\u001b[0m \u001b[0;34m\u001b[0m\u001b[0m\n",
      "\u001b[0;32m~/PycharmProjects/Numerico2020/venv/lib/python3.5/site-packages/matplotlib/lines.py\u001b[0m in \u001b[0;36mrecache\u001b[0;34m(self, always)\u001b[0m\n\u001b[1;32m    643\u001b[0m         \u001b[0;32mif\u001b[0m \u001b[0malways\u001b[0m \u001b[0;32mor\u001b[0m \u001b[0mself\u001b[0m\u001b[0;34m.\u001b[0m\u001b[0m_invalidy\u001b[0m\u001b[0;34m:\u001b[0m\u001b[0;34m\u001b[0m\u001b[0m\n\u001b[1;32m    644\u001b[0m             \u001b[0myconv\u001b[0m \u001b[0;34m=\u001b[0m \u001b[0mself\u001b[0m\u001b[0;34m.\u001b[0m\u001b[0mconvert_yunits\u001b[0m\u001b[0;34m(\u001b[0m\u001b[0mself\u001b[0m\u001b[0;34m.\u001b[0m\u001b[0m_yorig\u001b[0m\u001b[0;34m)\u001b[0m\u001b[0;34m\u001b[0m\u001b[0m\n\u001b[0;32m--> 645\u001b[0;31m             \u001b[0my\u001b[0m \u001b[0;34m=\u001b[0m \u001b[0m_to_unmasked_float_array\u001b[0m\u001b[0;34m(\u001b[0m\u001b[0myconv\u001b[0m\u001b[0;34m)\u001b[0m\u001b[0;34m.\u001b[0m\u001b[0mravel\u001b[0m\u001b[0;34m(\u001b[0m\u001b[0;34m)\u001b[0m\u001b[0;34m\u001b[0m\u001b[0m\n\u001b[0m\u001b[1;32m    646\u001b[0m         \u001b[0;32melse\u001b[0m\u001b[0;34m:\u001b[0m\u001b[0;34m\u001b[0m\u001b[0m\n\u001b[1;32m    647\u001b[0m             \u001b[0my\u001b[0m \u001b[0;34m=\u001b[0m \u001b[0mself\u001b[0m\u001b[0;34m.\u001b[0m\u001b[0m_y\u001b[0m\u001b[0;34m\u001b[0m\u001b[0m\n",
      "\u001b[0;32m~/PycharmProjects/Numerico2020/venv/lib/python3.5/site-packages/matplotlib/cbook/__init__.py\u001b[0m in \u001b[0;36m_to_unmasked_float_array\u001b[0;34m(x)\u001b[0m\n\u001b[1;32m   1363\u001b[0m         \u001b[0;32mreturn\u001b[0m \u001b[0mnp\u001b[0m\u001b[0;34m.\u001b[0m\u001b[0mma\u001b[0m\u001b[0;34m.\u001b[0m\u001b[0masarray\u001b[0m\u001b[0;34m(\u001b[0m\u001b[0mx\u001b[0m\u001b[0;34m,\u001b[0m \u001b[0mfloat\u001b[0m\u001b[0;34m)\u001b[0m\u001b[0;34m.\u001b[0m\u001b[0mfilled\u001b[0m\u001b[0;34m(\u001b[0m\u001b[0mnp\u001b[0m\u001b[0;34m.\u001b[0m\u001b[0mnan\u001b[0m\u001b[0;34m)\u001b[0m\u001b[0;34m\u001b[0m\u001b[0m\n\u001b[1;32m   1364\u001b[0m     \u001b[0;32melse\u001b[0m\u001b[0;34m:\u001b[0m\u001b[0;34m\u001b[0m\u001b[0m\n\u001b[0;32m-> 1365\u001b[0;31m         \u001b[0;32mreturn\u001b[0m \u001b[0mnp\u001b[0m\u001b[0;34m.\u001b[0m\u001b[0masarray\u001b[0m\u001b[0;34m(\u001b[0m\u001b[0mx\u001b[0m\u001b[0;34m,\u001b[0m \u001b[0mfloat\u001b[0m\u001b[0;34m)\u001b[0m\u001b[0;34m\u001b[0m\u001b[0m\n\u001b[0m\u001b[1;32m   1366\u001b[0m \u001b[0;34m\u001b[0m\u001b[0m\n\u001b[1;32m   1367\u001b[0m \u001b[0;34m\u001b[0m\u001b[0m\n",
      "\u001b[0;32m~/PycharmProjects/Numerico2020/venv/lib/python3.5/site-packages/numpy/core/_asarray.py\u001b[0m in \u001b[0;36masarray\u001b[0;34m(a, dtype, order)\u001b[0m\n\u001b[1;32m     83\u001b[0m \u001b[0;34m\u001b[0m\u001b[0m\n\u001b[1;32m     84\u001b[0m     \"\"\"\n\u001b[0;32m---> 85\u001b[0;31m     \u001b[0;32mreturn\u001b[0m \u001b[0marray\u001b[0m\u001b[0;34m(\u001b[0m\u001b[0ma\u001b[0m\u001b[0;34m,\u001b[0m \u001b[0mdtype\u001b[0m\u001b[0;34m,\u001b[0m \u001b[0mcopy\u001b[0m\u001b[0;34m=\u001b[0m\u001b[0;32mFalse\u001b[0m\u001b[0;34m,\u001b[0m \u001b[0morder\u001b[0m\u001b[0;34m=\u001b[0m\u001b[0morder\u001b[0m\u001b[0;34m)\u001b[0m\u001b[0;34m\u001b[0m\u001b[0m\n\u001b[0m\u001b[1;32m     86\u001b[0m \u001b[0;34m\u001b[0m\u001b[0m\n\u001b[1;32m     87\u001b[0m \u001b[0;34m\u001b[0m\u001b[0m\n",
      "\u001b[0;31mValueError\u001b[0m: setting an array element with a sequence."
     ],
     "evalue": "setting an array element with a sequence.",
     "ename": "ValueError",
     "output_type": "error"
    },
    {
     "data": {
      "image/png": "[encoded data removed]",
      "text/plain": "<Figure size 1080x360 with 3 Axes>"
     },
     "metadata": {
      "needs_background": "light"
     },
     "output_type": "display_data"
    }
   ],
   "source": [
    "import numpy as np\n",
    "import matplotlib.pyplot as plt\n",
    "\n",
    "# x\n",
    "I = (0, 1.5)\n",
    "X = np.linspace(*I, 1000)\n",
    "\n",
    "# imagenes\n",
    "bisec = [forBisec(x)[-1] for x in X]\n",
    "newton = [forNewton(x)[-1] for x in X]\n",
    "ipf = [forFixedPoint(x)[-1] for x in X]\n",
    "\n",
    "# mostramos los gráficos\n",
    "fig, ax = plt.subplots(1, 3, figsize=(15, 5))\n",
    "\n",
    "ax[0].plot(X, bisec, color='red')\n",
    "ax[0].set_title('Bisection method')\n",
    "\n",
    "ax[1].plot(X, newton, color='blue')\n",
    "ax[1].set_title('Newton method')\n",
    "\n",
    "ax[2].plot(X, ipf, color='green')\n",
    "ax[2].set_title('Fixed point iteration method')\n",
    "\n",
    "plt.show()\n"
   ],
   "metadata": {
    "collapsed": false,
    "pycharm": {
     "name": "#%%\n",
     "is_executing": false
    }
   }
  }
 ],
 "metadata": {
  "kernelspec": {
   "display_name": "Python 3",
   "language": "python",
   "name": "python3"
  },
  "language_info": {
   "codemirror_mode": {
    "name": "ipython",
    "version": 2
   },
   "file_extension": ".py",
   "mimetype": "text/x-python",
   "name": "python",
   "nbconvert_exporter": "python",
   "pygments_lexer": "ipython2",
   "version": "2.7.6"
  },
  "pycharm": {
   "stem_cell": {
    "cell_type": "raw",
    "source": [],
    "metadata": {
     "collapsed": false
    }
   }
  }
 },
 "nbformat": 4,
 "nbformat_minor": 0
}