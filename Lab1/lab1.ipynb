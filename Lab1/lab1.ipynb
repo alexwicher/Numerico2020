{
 "cells": [
  {
   "cell_type": "markdown",
   "metadata": {},
   "source": [
    "## 1) Precedencia de operadores:"
   ]
  },
  {
   "cell_type": "code",
   "execution_count": 28,
   "metadata": {
    "pycharm": {
     "is_executing": false,
     "name": "#%%\n"
    }
   },
   "outputs": [
    {
     "name": "stdout",
     "output_type": "stream",
     "text": [
      "69.5\n",
      "0.2\n",
      "34.5\n",
      "0.007246376811594203\n"
     ]
    }
   ],
   "source": [
    "x,y,z = 23,46,69\n",
    "\n",
    "print(x / y + z)\n",
    "print(x / (y + z))\n",
    "\n",
    "print(x / y * z)\n",
    "print(x / (y * z))"
   ]
  },
  {
   "cell_type": "markdown",
   "metadata": {},
   "source": [
    "La precedencia es -->\n",
    "    Paréntesis,\n",
    "    Exponentes,\n",
    "    De izquierda a derecha multiplicación y división y izquierda a derecha para la \n",
    "    suma y resta "
   ]
  },
  {
   "cell_type": "markdown",
   "metadata": {},
   "source": [
    "## 2) Epsilon máquina:\n",
    "Número decimal más pequeño que, sumado a 1, la computadora nos arroja un valor diferente de 1, es decir, que no es redondeado"
   ]
  },
  {
   "cell_type": "code",
   "execution_count": 29,
   "metadata": {
    "pycharm": {
     "is_executing": false,
     "name": "#%%\n"
    }
   },
   "outputs": [
    {
     "name": "stdout",
     "output_type": "stream",
     "text": [
      "(a,b) = (1.0, 0.0)\n",
      "(a,b) = (1.0000000000000002, 2.220446049250313e-16)\n"
     ]
    }
   ],
   "source": [
    "a= 1 + 2**(-53); b = a - 1\n",
    "print('(a,b) = ' + (a,b).__str__()) \n",
    "a= 1 + 2**(-52); b = a - 1\n",
    "print('(a,b) = ' + (a,b).__str__())"
   ]
  },
  {
   "cell_type": "markdown",
   "metadata": {
    "pycharm": {
     "name": "#%% md\n"
    }
   },
   "source": [
    "## 3) Overflow y Underflow"
   ]
  },
  {
   "cell_type": "code",
   "execution_count": 30,
   "metadata": {
    "pycharm": {
     "is_executing": false,
     "name": "#%%\n"
    }
   },
   "outputs": [
    {
     "name": "stdout",
     "output_type": "stream",
     "text": [
      "Overflow is: 8.98846567431158e+307\n",
      "Underflow is: 5e-324\n",
      "System: (1.7976931348623157e+308, 2.2250738585072014e-308)\n"
     ]
    }
   ],
   "source": [
    "import sys\n",
    "\n",
    "import numpy as np\n",
    "\n",
    "overflow = 2.0\n",
    "while not np.isinf(overflow*2.0):\n",
    "    overflow *= 2.0\n",
    "print('Overflow is:',format(overflow))\n",
    "underflow = 1\n",
    "while underflow/2:\n",
    "    underflow /= 2\n",
    "print('Underflow is:',format(underflow))\n",
    "print('System:', format((sys.float_info.max, sys.float_info.min)))"
   ]
  },
  {
   "cell_type": "markdown",
   "metadata": {},
   "source": [
    "## 4) Representación de punto flotante en binario (IEEE 754)"
   ]
  },
  {
   "cell_type": "code",
   "execution_count": 31,
   "metadata": {
    "pycharm": {
     "is_executing": false,
     "name": "#%%\n"
    }
   },
   "outputs": [
    {
     "name": "stdout",
     "output_type": "stream",
     "text": [
      "Con 0.1 ->  10.09999999999998\n",
      "Con 0.5 ->  10.0\n"
     ]
    }
   ],
   "source": [
    "def loop(y):\n",
    "    x = 0\n",
    "    while x != 10 and x < 10:\n",
    "        x += y\n",
    "    return x\n",
    "\n",
    "print('Con 0.1 -> ',format(loop(0.1)))\n",
    "print('Con 0.5 -> ',format(loop(0.5)))"
   ]
  },
  {
   "cell_type": "markdown",
   "metadata": {
    "pycharm": {
     "name": "#%% md\n"
    }
   },
   "source": [
    "\n",
    "https://www.h-schmidt.net/FloatConverter/IEEE754.html\n",
    "IEEE 754 -> Primer bit es el signo 0 = positivo, 1 = negativo <br>\n",
    "Los siguentes 8 bits son para el exponente\n",
    "El resto son para la mantisa o fracción <br>\n",
    "En la mantissa, se deja implicito el 1 <br>\n",
    "El bit 23 corresponde a 1/(2^1), el 22 a 2^-2, etc <br>\n",
    "mantissa seria como sumatoria((nMantissaBit)*2^-n) <br>\n",
    "\n",
    "==> float = 2^(exponente - 127) * (1+mantissa) <br>\n",
    "==> Para 0.5 el exponente seria 01111110b = 126d  la mantissa seria todo 0 <br>\n",
    "    0.5 = 2^(126 - 127) * (1 + (0 * 2^-1 + 0 * 2^-2 +...+0*2^-23)) <br>\n",
    "IEEE 754 es el estandar industrial màs usado para representación de puntos flotantes <br>\n",
    "https://stackoverflow.com/questions/3448777/how-to-represent-0-1-in-floating-point-arithmetic-and-decimal#3448855 <br>\n",
    "Con IEEE 754 es imposible representar al 0.1 de forma exacta entonces se usa la representación --> <br>\n",
    "0 01111011 10011001100110011001101b = 0.100000001490116119384765625d"
   ]
  },
  {
   "cell_type": "markdown",
   "metadata": {},
   "source": [
    "## 5) Factorial"
   ]
  },
  {
   "cell_type": "code",
   "execution_count": 32,
   "metadata": {
    "pycharm": {
     "is_executing": false,
     "name": "#%%\n"
    }
   },
   "outputs": [
    {
     "name": "stdout",
     "output_type": "stream",
     "text": [
      "factorial_6 -->  720\n",
      "math -->  720\n",
      "nFactorial -->  6 40320 720\n"
     ]
    }
   ],
   "source": [
    "import math\n",
    "\n",
    "def fact(n):\n",
    "    ret = 1\n",
    "    for x in range(n):\n",
    "        ret *= (x+1)\n",
    "    return ret\n",
    "\n",
    "print('factorial_6 --> ',format(1*2*3*4*5*6))\n",
    "print('math --> ',format(math.factorial(6)))\n",
    "print('nFactorial --> ',format(fact(3)),format(fact(8)),format(fact(6)))"
   ]
  },
  {
   "cell_type": "markdown",
   "metadata": {},
   "source": [
    "## 6) Comparare\n"
   ]
  },
  {
   "cell_type": "code",
   "execution_count": 33,
   "metadata": {
    "pycharm": {
     "is_executing": false,
     "name": "#%%\n"
    }
   },
   "outputs": [
    {
     "name": "stdout",
     "output_type": "stream",
     "text": [
      "Bigger -->  46\n",
      "Numbers are equal...\n",
      "Bigger -->  69\n"
     ]
    }
   ],
   "source": [
    "def bigger(a,b):\n",
    "    if a == b:\n",
    "        print('Numbers are equal...')\n",
    "    elif a > b:\n",
    "        print('Bigger --> ',format(a))\n",
    "    elif a < b:\n",
    "        print('Bigger --> ',format(b))\n",
    "\n",
    "bigger(23,46)\n",
    "bigger(23,23)\n",
    "bigger(69,23)"
   ]
  },
  {
   "cell_type": "markdown",
   "metadata": {},
   "source": [
    "## 7) Potencias"
   ]
  },
  {
   "cell_type": "code",
   "execution_count": 34,
   "metadata": {
    "pycharm": {
     "is_executing": false,
     "name": "#%%\n"
    }
   },
   "outputs": [
    {
     "name": "stdout",
     "output_type": "stream",
     "text": [
      "Cinco primeras potencias de 2  -->  [2, 4, 8, 16, 32]\n"
     ]
    }
   ],
   "source": [
    "def pot(x,e):\n",
    "    if not isinstance(e,int):\n",
    "        raise TypeError(\"Exponente debe ser entero\")\n",
    "    return x**e\n",
    "\n",
    "def cincoPotencias(x):\n",
    "    potencias = []\n",
    "    for i in range(5):\n",
    "        potencias.append(pot(x,i+1))\n",
    "    print('Cinco primeras potencias de',format(x),' --> ', format(potencias))\n",
    "\n",
    "cincoPotencias(2)"
   ]
  },
  {
   "cell_type": "markdown",
   "metadata": {},
   "source": [
    "## 8) Bhaskara"
   ]
  },
  {
   "cell_type": "code",
   "execution_count": 35,
   "metadata": {
    "pycharm": {
     "is_executing": false,
     "name": "#%%\n"
    }
   },
   "outputs": [
    {
     "name": "stdout",
     "output_type": "stream",
     "text": [
      "(0.0, -1e+100)\n",
      "(-1e+100, -1.0)\n",
      "No hay solución real ---> descriminante --> -3.9999999999\n",
      "None\n",
      "(1.0000050000125, -0.9999950000125)\n",
      "(1.0000050000125, -0.9999950000125)\n"
     ]
    }
   ],
   "source": [
    "def mala(a, b, c):\n",
    "   # Avoids math errors\n",
    "    discriminante = b ** 2 - 4 * a * c\n",
    "    if discriminante < 0:\n",
    "        print('No hay solución real ---> descriminante -->',format(discriminante))\n",
    "        return None\n",
    "        \n",
    "    x_1 = (-b + math.sqrt(b**2 - (4*a*c)))/(2*a)\n",
    "    x_2 = (-b - math.sqrt(b**2 - (4*a*c)))/(2*a)\n",
    "    return x_1, x_2\n",
    "\n",
    "def buena(a,b,c):\n",
    "    # Avoids math errors\n",
    "    discriminante = b ** 2 - 4 * a * c\n",
    "    if discriminante < 0:\n",
    "        print('No hay solución real ---> descriminante -->',format(discriminante))\n",
    "        return None\n",
    "    \n",
    "    if b >=0:\n",
    "        x_1 = (-b - math.sqrt(b ** 2 - 4*a*c)) / (2*a)\n",
    "    else:\n",
    "        x_1 = (-b + math.sqrt(b ** 2 - 4*a*c)) / (2*a)\n",
    "        \n",
    "    x_2 = c / (a*x_1)\n",
    "    \n",
    "    return x_1,x_2\n",
    "\n",
    "print(mala(1, (1+10**100), 10**100))\n",
    "print(buena(1, (1+10**100), 10**100))\n",
    "print(mala(1, (pow(10,-5)), 1))\n",
    "print(mala(1, (-pow(10,-5)), -1))\n",
    "print(buena(1, (-pow(10,-5)), -1))"
   ]
  },
  {
   "cell_type": "markdown",
   "metadata": {},
   "source": [
    "## 9) Algoritmo de Horner"
   ]
  },
  {
   "cell_type": "code",
   "execution_count": 42,
   "metadata": {
    "pycharm": {
     "is_executing": false,
     "name": "#%%\n"
    }
   },
   "outputs": [
    {
     "name": "stdout",
     "output_type": "stream",
     "text": [
      "7\n",
      "271\n"
     ]
    }
   ],
   "source": [
    "#coefs = [1,2,3] -->    x^2 + 2*x + 3\n",
    "def horn(coefs, val):\n",
    "    len = coefs.__len__()\n",
    "    p = coefs[len -1]\n",
    "    for idx,coef in enumerate(coefs[0:len-1]):\n",
    "        p += (coef * val**(len-idx-1))\n",
    "    return p\n",
    "\n",
    "print('2²+2+1 = 7 ---> ',format(horn([1, 1, 1], 2)))\n",
    "\n",
    "\n"
   ]
  }
 ],
 "metadata": {
  "kernelspec": {
   "display_name": "Python 3",
   "language": "python",
   "name": "python3"
  },
  "language_info": {
   "codemirror_mode": {
    "name": "ipython",
    "version": 3
   },
   "file_extension": ".py",
   "mimetype": "text/x-python",
   "name": "python",
   "nbconvert_exporter": "python",
   "pygments_lexer": "ipython3",
   "version": "3.5.2"
  },
  "pycharm": {
   "stem_cell": {
    "cell_type": "raw",
    "metadata": {
     "collapsed": false
    },
    "source": []
   }
  }
 },
 "nbformat": 4,
 "nbformat_minor": 1
}
